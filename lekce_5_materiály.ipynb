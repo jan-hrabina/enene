{
  "nbformat": 4,
  "nbformat_minor": 0,
  "metadata": {
    "colab": {
      "name": "lekce_5_materiály.ipynb",
      "provenance": [],
      "include_colab_link": true
    },
    "kernelspec": {
      "name": "python3",
      "display_name": "Python 3"
    }
  },
  "cells": [
    {
      "cell_type": "markdown",
      "metadata": {
        "id": "view-in-github",
        "colab_type": "text"
      },
      "source": [
        "<a href=\"https://colab.research.google.com/github/jan-hrabina/enene/blob/master/lekce_5_materi%C3%A1ly.ipynb\" target=\"_parent\"><img src=\"https://colab.research.google.com/assets/colab-badge.svg\" alt=\"Open In Colab\"/></a>"
      ]
    },
    {
      "cell_type": "markdown",
      "metadata": {
        "id": "4N3xzBZPqYe0"
      },
      "source": [
        "# Dnesni ukol\n",
        "V ramci dnesni lekce budeme chtit dokoncit teorii o smyckach v Pythonu. Rekneme si obecne o jejich pouziti, doplnujici zpusob prace s nimi.\n",
        "\n"
      ]
    },
    {
      "cell_type": "markdown",
      "metadata": {
        "id": "peis-BlGqenS"
      },
      "source": [
        "# Hledani nejcastejsich slov\n",
        "Spolecne si zadame nahodny text, s nimz dnes budeme pracovat. Cilem bude zjistit pet nejcastejsich slov, ktere se v textu vyskytuji.\n",
        "\n",
        "Nas cil\n",
        "Vystup by na konci lekce mohl vypadat nasledovne:\n"
      ]
    },
    {
      "cell_type": "code",
      "metadata": {
        "id": "P7VQDE7mqeDK"
      },
      "source": [
        "\"\"\"==========================\n",
        "1, SLOVO: *he*, VYSKYT: 6x\n",
        "==========================\n",
        "2, SLOVO: *in*, VYSKYT: 5x\n",
        "==========================\n",
        "3, SLOVO: *up*, VYSKYT: 4x\n",
        "==========================\n",
        "4, SLOVO: *of*, VYSKYT: 3x\n",
        "==========================\n",
        "5, SLOVO: *ye*, VYSKYT: 3x\"\"\""
      ],
      "execution_count": null,
      "outputs": []
    },
    {
      "cell_type": "code",
      "metadata": {
        "id": "AsjY-dgEafkD"
      },
      "source": [
        "\"\"\" Lekce #5 - Uvod do programovani, hledac slov \"\"\"\n",
        "\n",
        "# I. KROK\n",
        "# Zadani nasi ulohy\n",
        "XXXXXX\n",
        "\n",
        "# II. KROK\n",
        "# Prochazime promennou *text*\n",
        "\n",
        "# III. KROK\n",
        "# Rozdelime promennou *text*, abych prochazeli slova\n",
        "\n",
        "# IV. KROK\n",
        "# Zakomentuj krok 2.\n",
        "# Prochazime znovu\n",
        "\n",
        "# Zkusime napsat pomoci *while* cyklu\n",
        "\n",
        "# VI. KROK\n",
        "# Zakomentujeme krok 4.\n",
        "# Vyzkousime seznamovou komprehenci\n",
        "# Utridime slova do slovniku podle vyskytu\n",
        "\n",
        "# VII. KROK\n",
        "# Vytvorim pomocnou promennou *vyskyt_slov*\n",
        "# Pocitam vyskyt slov\n",
        "\n",
        "# VIII. KROK\n",
        "# Vybere 5 nejcastejsich slov\n",
        "\n",
        "# IX. KROK\n",
        "# Upravit vystup abych mel hodnoty rozdelene"
      ],
      "execution_count": null,
      "outputs": []
    },
    {
      "cell_type": "code",
      "metadata": {
        "id": "rLOIPhd9a1yR"
      },
      "source": [
        "TEXT = \"\"\"\n",
        "Affronting imprudence do he he everything. Sex lasted dinner wanted indeed\n",
        "wished out law. Far advanced settling say finished raillery. Offered\n",
        "chiefly farther of my no colonel shyness. Such on help ye some door if in.\n",
        "Laughter proposal laughing any son law consider. Needed except up piqued\n",
        "an. Her companions instrument set estimating sex remarkably solicitude\n",
        "motionless. Property men the why smallest graceful day insisted required.\n",
        "Inquiry justice country old placing sitting any ten age. Looking venture\n",
        "justice in evident in totally he do ability. Be is lose girl long of up give.\n",
        "Trifling wondered unpacked ye at he. In household certainty an on tolerably\n",
        "smallness difficult. Many no each like up be is next neat. Put not enjoyment\n",
        "behaviour her supposing. At he pulled object others. His exquisite sincerity\n",
        "education shameless ten earnestly breakfast add. So we me unknown as improve\n",
        "hastily sitting forming. Especially favourable compliment but thoroughly\n",
        "unreserved saw she themselves. Sufficient impossible him may ten insensible\n",
        "put continuing. Oppose exeter income simple few joy cousin but twenty. Scale\n",
        "began quiet up short wrong in in. Sportsmen shy forfeited engrossed may can.\n",
        "Remain valley who mrs uneasy remove wooded him you. Her questions favourite\n",
        "him concealed. We to wife face took he. The taste begin early old why since\n",
        "dried can first. Prepared as or humoured formerly. Evil mrs true get post.\n",
        "Express village evening prudent my as ye hundred forming. Thoughts she why not\n",
        "directly reserved packages you. Winter an silent favour of am tended mutual. "
      ],
      "execution_count": null,
      "outputs": []
    },
    {
      "cell_type": "markdown",
      "metadata": {
        "id": "JW-dknX1bjAV"
      },
      "source": [
        "# For cyklus\n",
        "\n",
        "Jde o dalsi zpusob, kterym v Pythonu muzu opakovat casti kodu. Zatim co while se opakoval, pokud byla explicitne zadana podminka vyhodnocena jako True, for cyklus bezi, dokud neprojde celou zadanou sadu udaju. Pripadne, pokud jej jinak neukoncime."
      ]
    },
    {
      "cell_type": "code",
      "metadata": {
        "id": "ri98s3E2bj_M"
      },
      "source": [
        "JMENA = [\"Helmut\", \"Helga\", \"Harold\", \"Hammet\", \"Hetfield\"]\n",
        "\n",
        "for jmeno in JMENA:\n",
        "  print(jmeno)"
      ],
      "execution_count": null,
      "outputs": []
    },
    {
      "cell_type": "markdown",
      "metadata": {
        "id": "OTQeMAiPcxvh"
      },
      "source": [
        "# Sortovani"
      ]
    },
    {
      "cell_type": "code",
      "metadata": {
        "id": "2Ko_JKUCbsoo"
      },
      "source": [
        "HODNOTY = (1, 3, 4365, 23, 12, 90, 34, 7)\n",
        "\n",
        "\n",
        "\n",
        "VYSKYT = {\"A\": 3, \"B\": 6, \"C\": 1, \"D\": 10}"
      ],
      "execution_count": null,
      "outputs": []
    },
    {
      "cell_type": "code",
      "metadata": {
        "id": "voJXQhtwc7TM"
      },
      "source": [
        ""
      ],
      "execution_count": null,
      "outputs": []
    },
    {
      "cell_type": "markdown",
      "metadata": {
        "id": "xnErjl1szlVG"
      },
      "source": [
        "# Range()\n",
        "\n",
        "Je v podstate nezmenitelny datovy typ, podobne jako string nebo tuple. Jde o interval hodnot, ktery se velice casto pouziva prave u for cyklu."
      ]
    },
    {
      "cell_type": "code",
      "metadata": {
        "id": "edLt3HVBdPKI"
      },
      "source": [
        ""
      ],
      "execution_count": null,
      "outputs": []
    },
    {
      "cell_type": "markdown",
      "metadata": {
        "id": "1AFVR6e3dMiW"
      },
      "source": [
        "# Enumerate()\n",
        "Opet zabudovana funkce slouzici jako nejake pocitadlo. Vraci nam tuply, ve kterych je v paru ulozeno cislo (poradove) a hodnota."
      ]
    },
    {
      "cell_type": "code",
      "metadata": {
        "id": "4vrgxSW5dLJv"
      },
      "source": [
        ""
      ],
      "execution_count": null,
      "outputs": []
    },
    {
      "cell_type": "markdown",
      "metadata": {
        "id": "b2QK-nQ_p89W"
      },
      "source": [
        ""
      ]
    },
    {
      "cell_type": "code",
      "metadata": {
        "id": "k_HLmEk04Nii"
      },
      "source": [
        "# I. KROK\n",
        "# Zadani nasi ulohy\n",
        "TEXT = \"\"\"\n",
        "Affronting imprudence do he he everything. Sex lasted dinner wanted indeed\n",
        "wished out law. Far advanced settling say finished raillery. Offered\n",
        "chiefly farther of my no colonel shyness. Such on help ye some door if in.\n",
        "Laughter proposal laughing any son law consider. Needed except up piqued\n",
        "an. Her companions instrument set estimating sex remarkably solicitude\n",
        "motionless. Property men the why smallest graceful day insisted required.\n",
        "Inquiry justice country old placing sitting any ten age. Looking venture\n",
        "justice in evident in totally he do ability. Be is lose girl long of up give.\n",
        "Trifling wondered unpacked ye at he. In household certainty an on tolerably\n",
        "smallness difficult. Many no each like up be is next neat. Put not enjoyment\n",
        "behaviour her supposing. At he pulled object others. His exquisite sincerity\n",
        "education shameless ten earnestly breakfast add. So we me unknown as improve\n",
        "hastily sitting forming. Especially favourable compliment but thoroughly\n",
        "unreserved saw she themselves. Sufficient impossible him may ten insensible\n",
        "put continuing. Oppose exeter income simple few joy cousin but twenty. Scale\n",
        "began quiet up short wrong in in. Sportsmen shy forfeited engrossed may can.\n",
        "Remain valley who mrs uneasy remove wooded him you. Her questions favourite\n",
        "him concealed. We to wife face took he. The taste begin early old why since\n",
        "dried can first. Prepared as or humoured formerly. Evil mrs true get post.\n",
        "Express village evening prudent my as ye hundred forming. Thoughts she why not\n",
        "directly reserved packages you. Winter an silent favour of am tended mutual. \n",
        "\"\"\"\n",
        "\n",
        "# II. KROK\n",
        "# Prochazime promennou *text*\n",
        "# for item in TEXT:\n",
        "#     print(item)\n",
        "\n",
        "# III. KROK\n",
        "# Rozdelime promennou *text*, abych prochazeli slova\n",
        "jednotlive_slova = TEXT.split()\n",
        "\n",
        "# IV. KROK\n",
        "# Zakomentuj krok 2.\n",
        "# Prochazime znovu\n",
        "# for slovo in jednotlive_slova:\n",
        "# V. KROK\n",
        "# Ocistime slova, ktera obsahuji interpunkci\n",
        "# ciste_slovo = slovo.strip(\",.\")\n",
        "# print(ciste_slovo)\n",
        "\n",
        "# Zkusime napsat pomoci *while* cyklu\n",
        "# while jednotlive_slova:\n",
        "#     slovo = jednotlive_slova.pop()\n",
        "#     print(slovo)\n",
        "\n",
        "\n",
        "# VI. KROK\n",
        "# Zakomentujeme krok 4.\n",
        "# Vyzkousime seznamovou komprehenci\n",
        "# Utridime slova do slovniku podle vyskytu\n",
        "vycistena_slova = [slovo.strip(\".,\") for slovo in jednotlive_slova]\n",
        "\n",
        "# VII. KROK\n",
        "# Vytvorim pomocnou promennou *vyskyt_slov*\n",
        "# Pocitam vyskyt slov\n",
        "vyskyt_slov = {}\n",
        "\n",
        "for ciste_slovo in vycistena_slova:\n",
        "    vyskyt_slov[ciste_slovo] = vyskyt_slov.setdefault(ciste_slovo, 0) + 1\n",
        "\n",
        "# VIII. KROK\n",
        "# Vybere 5 nejcastejsich slov\n",
        "nejcastejsi = sorted(vyskyt_slov, key=vyskyt_slov.get, reverse=True)[:5]\n",
        "\n",
        "# IX. KROK\n",
        "# Upravit vystup abych mel hodnoty rozdelene\n",
        "for index, _ in enumerate(range(len(nejcastejsi), 0, -1), 1):\n",
        "    print(\"=\" * 26)\n",
        "    print(f\"{index}\", end=\", \")\n",
        "    for item in nejcastejsi:\n",
        "        print(f\"SLOVO: *{item}*, VYSKYT: {vyskyt_slov[item]}x\")\n",
        "        nejcastejsi.remove(item)\n",
        "        break"
      ],
      "execution_count": null,
      "outputs": []
    }
  ]
}