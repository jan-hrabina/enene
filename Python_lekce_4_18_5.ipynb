{
  "nbformat": 4,
  "nbformat_minor": 0,
  "metadata": {
    "colab": {
      "name": "Python_lekce_4_18_5.ipynb",
      "provenance": [],
      "include_colab_link": true
    },
    "kernelspec": {
      "name": "python3",
      "display_name": "Python 3"
    },
    "language_info": {
      "name": "python"
    }
  },
  "cells": [
    {
      "cell_type": "markdown",
      "metadata": {
        "id": "view-in-github",
        "colab_type": "text"
      },
      "source": [
        "<a href=\"https://colab.research.google.com/github/jan-hrabina/enene/blob/master/Python_lekce_4_18_5.ipynb\" target=\"_parent\"><img src=\"https://colab.research.google.com/assets/colab-badge.svg\" alt=\"Open In Colab\"/></a>"
      ]
    },
    {
      "cell_type": "markdown",
      "metadata": {
        "id": "KdxY263_PJDb"
      },
      "source": [
        "# Vytvor program, ktery bude rozdelovat slova dle delky do jednotlivych listů. Tyto listy je třeba předgenerovat do slovníku. [2,3,4,5] slova se budou zadavat pomoci input"
      ]
    },
    {
      "cell_type": "code",
      "metadata": {
        "id": "HjS7D5RpMq8b",
        "colab": {
          "base_uri": "https://localhost:8080/"
        },
        "outputId": "48939fdd-25c7-42a9-e2ff-6cc8d9d3fb81"
      },
      "source": [
        "slovnik = dict()\n",
        "\n",
        "slovo = input('zadej slovo: ')\n",
        "\n",
        "slovnik.setdefault(len(slovo),[]).append(slovo)    \n",
        "\n",
        "print(slovnik)  \n"
      ],
      "execution_count": 14,
      "outputs": [
        {
          "output_type": "stream",
          "text": [
            "zadej slovo: ok\n",
            "{2: ['ok']}\n"
          ],
          "name": "stdout"
        }
      ]
    },
    {
      "cell_type": "code",
      "metadata": {
        "colab": {
          "base_uri": "https://localhost:8080/"
        },
        "id": "zPxNXtmoV3sj",
        "outputId": "be56ff42-1146-460e-a745-5d28a5189e28"
      },
      "source": [
        "slovnik[\"k\"]=slovnik.get(\"k\",\"neni tam\")\n",
        "slovnik\n",
        "\n",
        "slovnik.setdefault(\"l\",[]).append(98)\n",
        "slovnik"
      ],
      "execution_count": 17,
      "outputs": [
        {
          "output_type": "execute_result",
          "data": {
            "text/plain": [
              "{2: ['ok'], 'k': 'neni tam', 'l': [98]}"
            ]
          },
          "metadata": {
            "tags": []
          },
          "execution_count": 17
        }
      ]
    },
    {
      "cell_type": "code",
      "metadata": {
        "colab": {
          "base_uri": "https://localhost:8080/"
        },
        "id": "J0i2txoqZBVO",
        "outputId": "dc8cd01f-bf9d-4d1d-8693-4427e58d1e87"
      },
      "source": [
        "slova = ['nej','tuzka','okno','dvere']\n",
        "\n",
        "for slovo in slova:\n",
        "  print(slovo)"
      ],
      "execution_count": 18,
      "outputs": [
        {
          "output_type": "stream",
          "text": [
            "nej\n",
            "tuzka\n",
            "okno\n",
            "dvere\n"
          ],
          "name": "stdout"
        }
      ]
    },
    {
      "cell_type": "code",
      "metadata": {
        "colab": {
          "base_uri": "https://localhost:8080/"
        },
        "id": "Wt1Rr0_WZn0Z",
        "outputId": "59e284d8-696d-4c28-dbb5-3deb017ef94a"
      },
      "source": [
        "slovnik = dict()\n",
        "slova = ['nej','tuzka','okno','dvere']\n",
        "\n",
        "for slovo in slova:\n",
        "  slovnik.setdefault(len(slovo), []).append(slovo)\n",
        "\n",
        "print(slovnik)  "
      ],
      "execution_count": 19,
      "outputs": [
        {
          "output_type": "stream",
          "text": [
            "{3: ['nej'], 5: ['tuzka', 'dvere'], 4: ['okno']}\n"
          ],
          "name": "stdout"
        }
      ]
    },
    {
      "cell_type": "code",
      "metadata": {
        "id": "4urRQ-OwyuzK",
        "outputId": "1ec545a9-3e4a-4c43-8090-e2bfa13967c3",
        "colab": {
          "base_uri": "https://localhost:8080/"
        }
      },
      "source": [
        "slovo = input(\"zadej slovo: \")\n",
        "\n",
        "for znak in slovo:\n",
        "  if znak.isupper():\n",
        "    print('velke')\n",
        "  else:\n",
        "    print('male')  "
      ],
      "execution_count": 21,
      "outputs": [
        {
          "output_type": "stream",
          "text": [
            "zadej slovo: hHHHHhhHh\n",
            "male\n",
            "velke\n",
            "velke\n",
            "velke\n",
            "velke\n",
            "male\n",
            "male\n",
            "velke\n",
            "male\n"
          ],
          "name": "stdout"
        }
      ]
    },
    {
      "cell_type": "code",
      "metadata": {
        "id": "Cru-CTrVzt5k",
        "outputId": "9305b8b9-d3db-41f6-831f-5422527bca66",
        "colab": {
          "base_uri": "https://localhost:8080/"
        }
      },
      "source": [
        "slovnik = {'jmeno':'jan','prijmeni':'hrabina'}\n",
        "for klic in slovnik:\n",
        "  print(klic)\n",
        "  for pismeno in klic:\n",
        "    print(pismeno)"
      ],
      "execution_count": 22,
      "outputs": [
        {
          "output_type": "stream",
          "text": [
            "jmeno\n",
            "j\n",
            "m\n",
            "e\n",
            "n\n",
            "o\n",
            "prijmeni\n",
            "p\n",
            "r\n",
            "i\n",
            "j\n",
            "m\n",
            "e\n",
            "n\n",
            "i\n"
          ],
          "name": "stdout"
        }
      ]
    }
  ]
}